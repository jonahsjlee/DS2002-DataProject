{
 "cells": [
  {
   "cell_type": "code",
   "execution_count": 15,
   "metadata": {},
   "outputs": [],
   "source": [
    "%run 'dsproject1.ipynb'"
   ]
  },
  {
   "cell_type": "markdown",
   "metadata": {},
   "source": [
    "# How to use ETL pipline application:\n",
    "    1. Run the above code cell ONCE.\n",
    "    2. Run the cell below to call the main method. This should start the ETL application and prompt the user for input.\n",
    "    3. Read the cell output carefully for application functions and options.\n",
    "    4. Type input when promted.\n",
    "\n",
    "### Notes:\n",
    "- Most errors will be raised. Read error message for reason. Other errors such as improper input will likely not have an error raised if the input is not valid. \n",
    "- Pay attention to warnings."
   ]
  },
  {
   "cell_type": "code",
   "execution_count": null,
   "metadata": {},
   "outputs": [],
   "source": [
    "main()"
   ]
  }
 ],
 "metadata": {
  "kernelspec": {
   "display_name": "2002env",
   "language": "python",
   "name": "venv"
  },
  "language_info": {
   "codemirror_mode": {
    "name": "ipython",
    "version": 3
   },
   "file_extension": ".py",
   "mimetype": "text/x-python",
   "name": "python",
   "nbconvert_exporter": "python",
   "pygments_lexer": "ipython3",
   "version": "3.12.6"
  }
 },
 "nbformat": 4,
 "nbformat_minor": 2
}
