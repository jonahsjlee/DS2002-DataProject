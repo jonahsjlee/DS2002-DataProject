{
 "cells": [
  {
   "cell_type": "code",
   "execution_count": 7,
   "metadata": {},
   "outputs": [],
   "source": [
    "%run 'dsproject1.ipynb'"
   ]
  },
  {
   "cell_type": "markdown",
   "metadata": {},
   "source": [
    "# How to use ETL pipline application:\n",
    "    1. Run the above code cell ONCE.\n",
    "    2. Run the cell below to call the main method. This should start the ETL application and prompt the user for input.\n",
    "    3. Read the cell output carefully for application functions and options.\n",
    "    4. Type input when promted.\n",
    "\n",
    "### Notes:\n",
    "- Most errors will be raised. Read error message for reason. Other errors such as improper input will likely not have an error raised if the input is not valid. \n",
    "- Pay attention to warnings."
   ]
  },
  {
   "cell_type": "code",
   "execution_count": 11,
   "metadata": {},
   "outputs": [
    {
     "name": "stdout",
     "output_type": "stream",
     "text": [
      "Validating dataframe...\n",
      "Existing data detected!\n",
      "ETL Pipeline: What would you like to do?\n",
      "Available Options:\n",
      "            1: Fetch or Upload Data (Overwrite existing data) \n",
      "            2: Convert file types (CSV, JSON, SQL DB). THIS ACTION IS INDEPENDENT OF EXISTING DATAFRAME.\n",
      "            3: Modify dataframe (Add or remove column)\n",
      "            4: Export/Store Data to disk or database\n",
      "            5: Summarize current dataframe\n",
      "            6: Exit program\n",
      "            \n",
      "Waiting for input...\n",
      "You selected:  5\n",
      "Generating summary of dataframe...\n",
      "<class 'pandas.core.frame.DataFrame'>\n",
      "RangeIndex: 6194 entries, 0 to 6193\n",
      "Data columns (total 10 columns):\n",
      " #   Column          Non-Null Count  Dtype  \n",
      "---  ------          --------------  -----  \n",
      " 0   application_id  6194 non-null   int64  \n",
      " 1   gender          6194 non-null   object \n",
      " 2   international   6194 non-null   bool   \n",
      " 3   gpa             6194 non-null   float64\n",
      " 4   major           6194 non-null   object \n",
      " 5   race            4352 non-null   object \n",
      " 6   gmat            6194 non-null   float64\n",
      " 7   work_exp        6194 non-null   float64\n",
      " 8   work_industry   6194 non-null   object \n",
      " 9   admission       1000 non-null   object \n",
      "dtypes: bool(1), float64(3), int64(1), object(5)\n",
      "memory usage: 441.7+ KB\n",
      "None\n",
      "       application_id          gpa         gmat     work_exp\n",
      "count     6194.000000  6194.000000  6194.000000  6194.000000\n",
      "mean      3097.500000     3.250714   651.092993     5.016952\n",
      "std       1788.198115     0.151541    49.294883     1.032432\n",
      "min          1.000000     2.650000   570.000000     1.000000\n",
      "25%       1549.250000     3.150000   610.000000     4.000000\n",
      "50%       3097.500000     3.250000   650.000000     5.000000\n",
      "75%       4645.750000     3.350000   680.000000     6.000000\n",
      "max       6194.000000     3.770000   780.000000     9.000000\n"
     ]
    }
   ],
   "source": [
    "main()"
   ]
  }
 ],
 "metadata": {
  "kernelspec": {
   "display_name": "2002env",
   "language": "python",
   "name": "venv"
  },
  "language_info": {
   "codemirror_mode": {
    "name": "ipython",
    "version": 3
   },
   "file_extension": ".py",
   "mimetype": "text/x-python",
   "name": "python",
   "nbconvert_exporter": "python",
   "pygments_lexer": "ipython3",
   "version": "3.12.6"
  }
 },
 "nbformat": 4,
 "nbformat_minor": 2
}
