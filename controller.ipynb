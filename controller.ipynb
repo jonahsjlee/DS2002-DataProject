{
 "cells": [
  {
   "cell_type": "code",
   "execution_count": 7,
   "metadata": {},
   "outputs": [],
   "source": [
    "%run 'dsproject1.ipynb'"
   ]
  },
  {
   "cell_type": "code",
   "execution_count": 9,
   "metadata": {},
   "outputs": [
    {
     "name": "stdout",
     "output_type": "stream",
     "text": [
      "Validating dataframe...\n",
      "Existing data detected!\n",
      "ETL Pipeline: What would you like to do?\n",
      "Available Options:\n",
      "            1: Fetch or Upload Data (Overwrite existing data) \n",
      "            2: Convert file types (CSV, JSON, SQL DB). THIS ACTION IS INDEPENDENT OF EXISTING DATAFRAME.\n",
      "            3: Modify dataframe (Add or remove column)\n",
      "            4: Export/Store Data to disk or database\n",
      "            5: Summarize current dataframe\n",
      "            6: Exit program\n",
      "            \n",
      "Waiting for input...\n",
      "You selected:  4\n",
      "How would you like the dataframe to be stored? Options: \n",
      " 1: Write to local disk as CSV or JSON \n",
      " 2: Write to SQL database\n",
      "Waiting for input...\n",
      "Waiting for input...\n",
      "You selected: Write to local disk. Please provide what you want the file to be named, including the extension. (e.g. 'output_file.csv', 'my_file.json', etc.) Please note only CSV and JSON is supported. The file will be written to the folder output_data\n",
      "Waiting for input...\n",
      "DataFrame exported as CSV to output_data/output.csv\n",
      "SUCESSFULLY EXPORTED DATAFRAME. Path to file: output_data/output.csv\n",
      "SUCESSFULLY EXPORTED DATAFRAME\n"
     ]
    }
   ],
   "source": [
    "main()"
   ]
  }
 ],
 "metadata": {
  "kernelspec": {
   "display_name": "2002env",
   "language": "python",
   "name": "venv"
  },
  "language_info": {
   "codemirror_mode": {
    "name": "ipython",
    "version": 3
   },
   "file_extension": ".py",
   "mimetype": "text/x-python",
   "name": "python",
   "nbconvert_exporter": "python",
   "pygments_lexer": "ipython3",
   "version": "3.12.6"
  }
 },
 "nbformat": 4,
 "nbformat_minor": 2
}
