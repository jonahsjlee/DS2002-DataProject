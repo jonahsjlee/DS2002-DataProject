{
 "cells": [
  {
   "cell_type": "markdown",
   "metadata": {},
   "source": [
    "# Part 1"
   ]
  },
  {
   "cell_type": "code",
   "execution_count": 1,
   "metadata": {},
   "outputs": [],
   "source": [
    "import pandas as pd\n",
    "import requests\n",
    "import os\n",
    "\n",
    "def fetch_data(source, is_local=True):\n",
    "    \"\"\"\n",
    "    Fetches data from a local file or remote URL.\n",
    "    \n",
    "    Parameters:\n",
    "        source (str): File path or URL to the data source.\n",
    "        is_local (bool): True if fetching from a local file, False for a URL.\n",
    "    \n",
    "    Returns:\n",
    "        pd.DataFrame: The data loaded into a DataFrame.\n",
    "    \"\"\"\n",
    "    if is_local:\n",
    "        # Read from a local file\n",
    "        if os.path.isfile(source):\n",
    "            if source.endswith('.csv'):\n",
    "                return pd.read_csv(source)\n",
    "            elif source.endswith('.json'):\n",
    "                return pd.read_json(source)\n",
    "            else:\n",
    "                raise ValueError(\"Unsupported file format. Only CSV and JSON are supported.\")\n",
    "        else:\n",
    "            raise FileNotFoundError(\"File not found at the specified path.\")\n",
    "    else:\n",
    "        # Download from a URL\n",
    "        response = requests.get(source)\n",
    "        if response.status_code == 200:\n",
    "            if source.endswith('.csv'):\n",
    "                # Read the content into a DataFrame\n",
    "                return pd.read_csv(pd.compat.StringIO(response.text))\n",
    "            elif source.endswith('.json'):\n",
    "                # Read the content into a DataFrame\n",
    "                return pd.read_json(response.content)\n",
    "            else:\n",
    "                raise ValueError(\"Unsupported URL format. Only CSV and JSON are supported.\")\n",
    "        else:\n",
    "            raise ConnectionError(f\"Failed to fetch data from URL. Status code: {response.status_code}\")\n"
   ]
  },
  {
   "cell_type": "markdown",
   "metadata": {},
   "source": [
    "# Part 2"
   ]
  },
  {
   "cell_type": "code",
   "execution_count": 5,
   "metadata": {},
   "outputs": [],
   "source": [
    "import json\n",
    "import pandas as pd\n",
    "import sqlite3\n",
    "import csv\n",
    "from io import StringIO\n",
    "\n",
    "def convert_data(input_data, input_type, output_type, sql_table_name=None, db_conn=None):\n",
    "    # Step 1: Convert input to a pandas DataFrame\n",
    "    if input_type == 'json':\n",
    "        # Load JSON data into pandas DataFrame\n",
    "        data = pd.read_json(StringIO(input_data)) if isinstance(input_data, str) else pd.DataFrame(input_data)\n",
    "    \n",
    "    elif input_type == 'csv':\n",
    "        # Load CSV data into pandas DataFrame\n",
    "        data = pd.read_csv(StringIO(input_data)) if isinstance(input_data, str) else pd.DataFrame(input_data)\n",
    "    \n",
    "    elif input_type == 'sql':\n",
    "        # Read from SQL database into pandas DataFrame\n",
    "        if db_conn is None or sql_table_name is None:\n",
    "            raise ValueError(\"You must provide a database connection and table name for SQL input\")\n",
    "        query = f\"SELECT * FROM {sql_table_name}\"\n",
    "        data = pd.read_sql(query, db_conn)\n",
    "    \n",
    "    else:\n",
    "        raise ValueError(\"Unsupported input type\")\n",
    "    \n",
    "    # Step 2: Convert DataFrame to the desired output format\n",
    "    if output_type == 'json':\n",
    "        return data.to_json(orient='records')  # Convert DataFrame to JSON\n",
    "    \n",
    "    elif output_type == 'csv':\n",
    "        return data.to_csv(index=False)  # Convert DataFrame to CSV\n",
    "    \n",
    "    elif output_type == 'sql':\n",
    "        if db_conn is None or sql_table_name is None:\n",
    "            raise ValueError(\"You must provide a database connection and table name for SQL output\")\n",
    "        data.to_sql(sql_table_name, db_conn, if_exists='replace', index=False)\n",
    "        return f\"Data written to SQL table '{sql_table_name}'\"\n",
    "    \n",
    "    else:\n",
    "        raise ValueError(\"Unsupported output type\")"
   ]
  },
  {
   "cell_type": "markdown",
   "metadata": {},
   "source": [
    "# Part 3"
   ]
  },
  {
   "cell_type": "code",
   "execution_count": null,
   "metadata": {},
   "outputs": [],
   "source": [
    "def modify_dataframe(df, action, column_name=None, data=None):\n",
    "    \"\"\"\n",
    "    Modify the DataFrame by adding or removing columns.\n",
    "    \n",
    "    Parameters:\n",
    "    df (pd.DataFrame): The DataFrame to modify.\n",
    "    action (str): The action to perform. 'add' to add a column, 'remove' to remove a column.\n",
    "    column_name (str): The name of the column to add or remove.\n",
    "    data (list or pd.Series or other data type, optional): Data for the new column (required if action is 'add').\n",
    "    \n",
    "    Returns:\n",
    "    pd.DataFrame: The modified DataFrame.\n",
    "    \"\"\"\n",
    "    \n",
    "    if action == 'add':\n",
    "        if column_name is None or data is None:\n",
    "            raise ValueError(\"To add a column, you must provide both a column name and data.\")\n",
    "        if len(data) != len(df):\n",
    "            raise ValueError(\"The length of the data must match the number of rows in the DataFrame.\")\n",
    "        \n",
    "        # Add the column\n",
    "        df[column_name] = data\n",
    "        print(f\"Column '{column_name}' added.\")\n",
    "    \n",
    "    elif action == 'remove':\n",
    "        if column_name is None:\n",
    "            raise ValueError(\"To remove a column, you must provide the column name.\")\n",
    "        if column_name not in df.columns:\n",
    "            raise ValueError(f\"Column '{column_name}' does not exist in the DataFrame.\")\n",
    "        \n",
    "        # Remove the column\n",
    "        df.drop(columns=[column_name], inplace=True)\n",
    "        print(f\"Column '{column_name}' removed.\")\n",
    "    \n",
    "    else:\n",
    "        raise ValueError(\"Action must be either 'add' or 'remove'.\")\n",
    "    \n",
    "    return df"
   ]
  }
 ],
 "metadata": {
  "kernelspec": {
   "display_name": "2002env",
   "language": "python",
   "name": "venv"
  },
  "language_info": {
   "codemirror_mode": {
    "name": "ipython",
    "version": 3
   },
   "file_extension": ".py",
   "mimetype": "text/x-python",
   "name": "python",
   "nbconvert_exporter": "python",
   "pygments_lexer": "ipython3",
   "version": "3.12.6"
  },
  "orig_nbformat": 4,
  "vscode": {
   "interpreter": {
    "hash": "5d98faea9de61e1542623044b8a16af451b4b1630621f7e350d50fded0742df8"
   }
  }
 },
 "nbformat": 4,
 "nbformat_minor": 2
}
