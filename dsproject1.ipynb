{
 "cells": [
  {
   "cell_type": "code",
   "execution_count": 6,
   "metadata": {},
   "outputs": [],
   "source": [
    "import pandas as pd\n",
    "import requests\n",
    "import os\n",
    "\n",
    "def fetch_data(source, is_local=True):\n",
    "    \"\"\"\n",
    "    Fetches data from a local file or remote URL.\n",
    "    \n",
    "    Parameters:\n",
    "        source (str): File path or URL to the data source.\n",
    "        is_local (bool): True if fetching from a local file, False for a URL.\n",
    "    \n",
    "    Returns:\n",
    "        pd.DataFrame: The data loaded into a DataFrame.\n",
    "    \"\"\"\n",
    "    if is_local:\n",
    "        # Read from a local file\n",
    "        if os.path.isfile(source):\n",
    "            if source.endswith('.csv'):\n",
    "                return pd.read_csv(source)\n",
    "            elif source.endswith('.json'):\n",
    "                return pd.read_json(source)\n",
    "            else:\n",
    "                raise ValueError(\"Unsupported file format. Only CSV and JSON are supported.\")\n",
    "        else:\n",
    "            raise FileNotFoundError(\"File not found at the specified path.\")\n",
    "    else:\n",
    "        # Download from a URL\n",
    "        response = requests.get(source)\n",
    "        if response.status_code == 200:\n",
    "            if source.endswith('.csv'):\n",
    "                # Read the content into a DataFrame\n",
    "                return pd.read_csv(pd.compat.StringIO(response.text))\n",
    "            elif source.endswith('.json'):\n",
    "                # Read the content into a DataFrame\n",
    "                return pd.read_json(response.content)\n",
    "            else:\n",
    "                raise ValueError(\"Unsupported URL format. Only CSV and JSON are supported.\")\n",
    "        else:\n",
    "            raise ConnectionError(f\"Failed to fetch data from URL. Status code: {response.status_code}\")\n"
   ]
  }
 ],
 "metadata": {
  "kernelspec": {
   "display_name": "Python 3",
   "language": "python",
   "name": "python3"
  },
  "language_info": {
   "codemirror_mode": {
    "name": "ipython",
    "version": 3
   },
   "file_extension": ".py",
   "mimetype": "text/x-python",
   "name": "python",
   "nbconvert_exporter": "python",
   "pygments_lexer": "ipython3",
   "version": "3.11.4"
  },
  "orig_nbformat": 4,
  "vscode": {
   "interpreter": {
    "hash": "5d98faea9de61e1542623044b8a16af451b4b1630621f7e350d50fded0742df8"
   }
  }
 },
 "nbformat": 4,
 "nbformat_minor": 2
}
